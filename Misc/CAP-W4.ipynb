{
 "cells": [
  {
   "cell_type": "markdown",
   "metadata": {},
   "source": [
    "<h1 align='center'>\n",
    "<br>\n",
    "<img src=\"../assets/IBM-Logo.png\" alt=\"IBM Course\" width=\"200\"> x <img src=\"../assets/taiwan_logo.jpg\" alt=\"TAIWAN\" width=\"200\">\n",
    "<br>\n",
    "    Applied Data Science Capstone\n",
    "</h1>\n",
    "\n",
    "<h2 align='center'><font size=5>\n",
    "   The Battle of Neighborhoods - A Look at the Universities in Taiwan</font>\n",
    "</h2>\n",
    "\n",
    "\n",
    "## Identifying the Problem\n",
    "**1. The description of the problem and the discussion of the background.**\n",
    "\n",
    "Taiwan is known for its outstanding performance throughout this pandemic, and students from all over the world urge to know more about the unique island. Taiwan strictly performs its regulation and carries out a 14-day quarantine for people who are allowed to enter the island, including Taiwanese citizens. \n",
    "\n",
    "Besides the restrictions, Taiwan is also known for its high population density (ranked 17th worldwide in 2019 according to [statista](https://www.statista.com/statistics/264683/top-fifty-countries-with-the-highest-population-density/)), beautiful mountains, and convenience. \n",
    "\n",
    "As a student currently studying in Taiwan, providing an insightful analysis to the local universities in terms of convenience would be interesting for future students when it comes to choosing which university to go to. Moreover, as a gym-goer and a sports fanatic, picking an university surrounded by sports facilities is always considerable. \n",
    "\n",
    "The project is then aiming (1) to examine the neighborhood of each university in Taiwan, exploring how it is like to live on campus, and (2) to inspect the potential location to run a gym business for huge fitness clubs like Fitness Factory and World Gym. \n",
    "\n",
    "\n",
    "**2. The description of the data and hot it will be used to solve the problem.**\n",
    "\n",
    "+ The data of listed universities is from the Ministry of Education, which can be found [here](https://ulist.moe.gov.tw/Download/FileDownload). The list contains attribute include:\n",
    "  + School ID\n",
    "  + Private/Public Status\n",
    "  + System/Institution\n",
    "  + University Name (in Chinese)\n",
    "  + University Name (in English)\n",
    "  + Principal of the university\n",
    "  + County\n",
    "  + School District\n",
    "  + Postal Code\n",
    "  + School Address (in Chinese)\n",
    "  + Tel\n",
    "  + School Website\n",
    "\n",
    "Since longitude and latitude for each school is not listed, [HERE](https://developer.here.com) API is used to fetch the data needed to be further processed using Foursquare.\n",
    "\n",
    "+ The geojson data for Taiwan is provided by [g0v](https://github.com/g0v/twgeojson). Since the data hasn't been updated for nearly 6 years, some content from the dataset needs to be corrected.\n",
    "  + I'm fetching [this](https://raw.githubusercontent.com/g0v/twgeojson/master/json/twCounty2010.geo.json) geojson data. As an example of the correction, 桃園縣 (Taoyuan County) needs to be corrected to 桃園市 (Taoyuan City).\n",
    "  \n",
    "\n",
    "\n",
    "🗒️ Note: I am not here to get involved in any political issues. Taiwan is a beautiful place with beautiful people, and the project aims to provide insights regarding the universities on the island. Please do not add extra political perspective towards this project.\n",
    "\n",
    "![](https://dynaimage.cdn.cnn.com/cnn/q_auto,w_900,c_fill,g_auto,h_506,ar_16:9/http%3A%2F%2Fcdn.cnn.com%2Fcnnnext%2Fdam%2Fassets%2F180719131350-beautiful-taiwan-popumon-alishan.jpg)"
   ]
  }
 ],
 "metadata": {
  "kernelspec": {
   "display_name": "DS",
   "language": "python",
   "name": "ds"
  },
  "language_info": {
   "codemirror_mode": {
    "name": "ipython",
    "version": 3
   },
   "file_extension": ".py",
   "mimetype": "text/x-python",
   "name": "python",
   "nbconvert_exporter": "python",
   "pygments_lexer": "ipython3",
   "version": "3.8.5"
  }
 },
 "nbformat": 4,
 "nbformat_minor": 4
}
